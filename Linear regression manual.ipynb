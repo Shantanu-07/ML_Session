{
 "cells": [
  {
   "cell_type": "markdown",
   "metadata": {},
   "source": [
    "## Importing the required libraries"
   ]
  },
  {
   "cell_type": "code",
   "execution_count": 146,
   "metadata": {},
   "outputs": [],
   "source": [
    "import numpy as np\n",
    "import pandas as pd\n",
    "import matplotlib.pyplot as plt"
   ]
  },
  {
   "cell_type": "markdown",
   "metadata": {},
   "source": [
    "## Reading data form the file"
   ]
  },
  {
   "cell_type": "code",
   "execution_count": 147,
   "metadata": {},
   "outputs": [
    {
     "data": {
      "text/html": [
       "<div>\n",
       "<style scoped>\n",
       "    .dataframe tbody tr th:only-of-type {\n",
       "        vertical-align: middle;\n",
       "    }\n",
       "\n",
       "    .dataframe tbody tr th {\n",
       "        vertical-align: top;\n",
       "    }\n",
       "\n",
       "    .dataframe thead th {\n",
       "        text-align: right;\n",
       "    }\n",
       "</style>\n",
       "<table border=\"1\" class=\"dataframe\">\n",
       "  <thead>\n",
       "    <tr style=\"text-align: right;\">\n",
       "      <th></th>\n",
       "      <th>YearsExperience</th>\n",
       "      <th>Salary</th>\n",
       "    </tr>\n",
       "  </thead>\n",
       "  <tbody>\n",
       "    <tr>\n",
       "      <th>0</th>\n",
       "      <td>1.1</td>\n",
       "      <td>39343.0</td>\n",
       "    </tr>\n",
       "    <tr>\n",
       "      <th>1</th>\n",
       "      <td>1.3</td>\n",
       "      <td>46205.0</td>\n",
       "    </tr>\n",
       "    <tr>\n",
       "      <th>2</th>\n",
       "      <td>1.5</td>\n",
       "      <td>37731.0</td>\n",
       "    </tr>\n",
       "    <tr>\n",
       "      <th>3</th>\n",
       "      <td>2.0</td>\n",
       "      <td>43525.0</td>\n",
       "    </tr>\n",
       "    <tr>\n",
       "      <th>4</th>\n",
       "      <td>2.2</td>\n",
       "      <td>39891.0</td>\n",
       "    </tr>\n",
       "  </tbody>\n",
       "</table>\n",
       "</div>"
      ],
      "text/plain": [
       "   YearsExperience   Salary\n",
       "0              1.1  39343.0\n",
       "1              1.3  46205.0\n",
       "2              1.5  37731.0\n",
       "3              2.0  43525.0\n",
       "4              2.2  39891.0"
      ]
     },
     "execution_count": 147,
     "metadata": {},
     "output_type": "execute_result"
    }
   ],
   "source": [
    "df = pd.read_csv('Salary_Data.csv')\n",
    "df.head()"
   ]
  },
  {
   "cell_type": "markdown",
   "metadata": {},
   "source": [
    "## Seperating the data into input and output variables"
   ]
  },
  {
   "cell_type": "code",
   "execution_count": 148,
   "metadata": {},
   "outputs": [],
   "source": [
    "x = df.iloc[:,0]\n",
    "y = df.iloc[:,1]"
   ]
  },
  {
   "cell_type": "code",
   "execution_count": 149,
   "metadata": {},
   "outputs": [
    {
     "data": {
      "text/plain": [
       "Text(0, 0.5, 'Salary')"
      ]
     },
     "execution_count": 149,
     "metadata": {},
     "output_type": "execute_result"
    },
    {
     "data": {
      "image/png": "[encoded data removed]",
      "text/plain": [
       "<Figure size 432x288 with 1 Axes>"
      ]
     },
     "metadata": {
      "needs_background": "light"
     },
     "output_type": "display_data"
    }
   ],
   "source": [
    "plt.scatter(x,y)\n",
    "plt.xlabel('YearsOfExperience')\n",
    "plt.ylabel('Salary')"
   ]
  },
  {
   "cell_type": "markdown",
   "metadata": {},
   "source": [
    "## Normalisation"
   ]
  },
  {
   "cell_type": "code",
   "execution_count": 150,
   "metadata": {},
   "outputs": [],
   "source": [
    "x = x / x.max()\n",
    "y = y / y.max()"
   ]
  },
  {
   "cell_type": "code",
   "execution_count": 151,
   "metadata": {},
   "outputs": [
    {
     "data": {
      "text/plain": [
       "Text(0, 0.5, 'Salary')"
      ]
     },
     "execution_count": 151,
     "metadata": {},
     "output_type": "execute_result"
    },
    {
     "data": {
      "image/png": "[encoded data removed]",
      "text/plain": [
       "<Figure size 432x288 with 1 Axes>"
      ]
     },
     "metadata": {
      "needs_background": "light"
     },
     "output_type": "display_data"
    }
   ],
   "source": [
    "plt.scatter(x,y)\n",
    "plt.xlabel('YearsOfExperience')\n",
    "plt.ylabel('Salary')"
   ]
  },
  {
   "cell_type": "markdown",
   "metadata": {},
   "source": [
    "## Gradient Descent function"
   ]
  },
  {
   "cell_type": "code",
   "execution_count": 164,
   "metadata": {},
   "outputs": [],
   "source": [
    "def grd(x,y):\n",
    "    m = b = value = 0\n",
    "    itr = 0\n",
    "    lr = 0.01\n",
    "    n = len(x)\n",
    "    while itr<5000:\n",
    "        y_p = m*x + b\n",
    "        cost = (1/n) * sum([pow(value,2) for value in (y-y_p)])\n",
    "        md = (-2/n) * sum(x*(y-y_p))\n",
    "        bd = (-2/n) * sum(y-y_p)\n",
    "        m = m - lr * md\n",
    "        b = b - lr * bd\n",
    "        itr+=1\n",
    "        if itr%100 == 0:\n",
    "            print(\"m: {}\\t b: {}\\t cost: {}\\t iteration: {}\".format(m,b,cost,itr))\n",
    "    #plt.plot(x,y_p,color='blue')\n",
    "    return y_p"
   ]
  },
  {
   "cell_type": "markdown",
   "metadata": {},
   "source": [
    "## Training the Model"
   ]
  },
  {
   "cell_type": "code",
   "execution_count": 165,
   "metadata": {},
   "outputs": [
    {
     "name": "stdout",
     "output_type": "stream",
     "text": [
      "The values of m, b, cost and iteration:\n",
      "\n",
      "m: 0.30514656754311276\t b: 0.4324979590197585\t cost: 0.021461007490700033\t iteration: 100\n",
      "m: 0.3750777263622044\t b: 0.44041029215437916\t cost: 0.015604658848488186\t iteration: 200\n",
      "m: 0.42218584891066974\t b: 0.41862542655407725\t cost: 0.012898469360372191\t iteration: 300\n",
      "m: 0.4631601463840662\t b: 0.39693466582291426\t cost: 0.010743253427106117\t iteration: 400\n",
      "m: 0.49973389620970704\t b: 0.3773586228251632\t cost: 0.009017745870344868\t iteration: 500\n",
      "m: 0.5324529170917646\t b: 0.3598294201470665\t cost: 0.007636218176350518\t iteration: 600\n",
      "m: 0.561729070378456\t b: 0.34414348362347924\t cost: 0.0065300976660244365\t iteration: 700\n",
      "m: 0.5879250583088901\t b: 0.3301077807861049\t cost: 0.005644481987711977\t iteration: 800\n",
      "m: 0.6113649797243993\t b: 0.3175487598372536\t cost: 0.004935413561295174\t iteration: 900\n",
      "m: 0.6323388014433681\t b: 0.3063110651965735\t cost: 0.004367697738671886\t iteration: 1000\n",
      "m: 0.6511059804839983\t b: 0.2962556813456027\t cost: 0.0039131559155568055\t iteration: 1100\n",
      "m: 0.6678986763580472\t b: 0.28725821813599656\t cost: 0.003549226884996927\t iteration: 1200\n",
      "m: 0.6829246232053704\t b: 0.27920737240125626\t cost: 0.0032578470106950047\t iteration: 1300\n",
      "m: 0.696369699585805\t b: 0.272003551109273\t cost: 0.0030245536374854136\t iteration: 1400\n",
      "m: 0.7084002278921138\t b: 0.2655576393483751\t cost: 0.0028377672366953774\t iteration: 1500\n",
      "m: 0.7191650318421686\t b: 0.25978989793098156\t cost: 0.002688216655639013\t iteration: 1600\n",
      "m: 0.7287972775035964\t b: 0.25462897697954695\t cost: 0.002568478943473135\t iteration: 1700\n",
      "m: 0.7374161206253627\t b: 0.25001103329250246\t cost: 0.002472610912647396\t iteration: 1800\n",
      "m: 0.7451281806546339\t b: 0.24587894057157322\t cost: 0.0023958541484821304\t iteration: 1900\n",
      "m: 0.7520288596732458\t b: 0.2421815827405853\t cost: 0.002334398825009062\t iteration: 2000\n",
      "m: 0.7582035225696921\t b: 0.238873221613758\t cost: 0.0022851946040618673\t iteration: 2100\n",
      "m: 0.7637285530459584\t b: 0.23591293109122072\t cost: 0.0022457992315831634\t iteration: 2200\n",
      "m: 0.76867229852253\t b: 0.23326409088246544\t cost: 0.0022142573162177905\t iteration: 2300\n",
      "m: 0.773095915630547\t b: 0.23089393349483647\t cost: 0.0021890032733615054\t iteration: 2400\n",
      "m: 0.7770541267502482\t b: 0.22877313888308026\t cost: 0.0021687836172880155\t iteration: 2500\n",
      "m: 0.7805958969544853\t b: 0.22687547174556005\t cost: 0.002152594744319958\t iteration: 2600\n",
      "m: 0.7837650397314287\t b: 0.2251774569803102\t cost: 0.002139633118908364\t iteration: 2700\n",
      "m: 0.786600758979573\t b: 0.22365808928615588\t cost: 0.0021292553901040142\t iteration: 2800\n",
      "m: 0.7891381339797764\t b: 0.22229857331651698\t cost: 0.002120946458799747\t iteration: 2900\n",
      "m: 0.7914085533437074\t b: 0.22108209117146782\t cost: 0.002114293910759552\t iteration: 3000\n",
      "m: 0.7934401033068382\t b: 0.2199935943518118\t cost: 0.0021089675464166006\t iteration: 3100\n",
      "m: 0.7952579151693795\t b: 0.21901961760153815\t cost: 0.002104702991400616\t iteration: 3200\n",
      "m: 0.7968844761831697\t b: 0.218148112335796\t cost: 0.0021012885743023194\t iteration: 3300\n",
      "m: 0.7983399077303504\t b: 0.2173682975938087\t cost: 0.0020985548203520344\t iteration: 3400\n",
      "m: 0.7996422142350375\t b: 0.2166705266729378\t cost: 0.002096366039530727\t iteration: 3500\n",
      "m: 0.8008075058871498\t b: 0.21604616779409405\t cost: 0.002094613591588867\t iteration: 3600\n",
      "m: 0.8018501979336035\t b: 0.21548749732226546\t cost: 0.0020932104936820205\t iteration: 3700\n",
      "m: 0.8027831890022058\t b: 0.21498760422124819\t cost: 0.0020920871029728445\t iteration: 3800\n",
      "m: 0.8036180206642025\t b: 0.2145403045606329\t cost: 0.0020911876599052567\t iteration: 3900\n",
      "m: 0.8043650202093499\t b: 0.21414006501745955\t cost: 0.002090467520575968\t iteration: 4000\n",
      "m: 0.8050334283997098\t b: 0.2137819344262151\t cost: 0.0020898909408320412\t iteration: 4100\n",
      "m: 0.8056315137825489\t b: 0.21346148253041247\t cost: 0.002089429302107997\t iteration: 4200\n",
      "m: 0.8061666749764493\t b: 0.21317474517807772\t cost: 0.002089059690941837\t iteration: 4300\n",
      "m: 0.8066455321959614\t b: 0.21291817528318588\t cost: 0.002088763761664166\t iteration: 4400\n",
      "m: 0.8070740091470031\t b: 0.21268859894641381\t cost: 0.0020885268258099498\t iteration: 4500\n",
      "m: 0.8074574063061011\t b: 0.21248317619239993\t cost: 0.002088337123055782\t iteration: 4600\n",
      "m: 0.8078004664899612\t b: 0.21229936583781384\t cost: 0.0020881852374956245\t iteration: 4700\n",
      "m: 0.8081074335265112\t b: 0.2121348940556338\t cost: 0.002088063630281824\t iteration: 4800\n",
      "m: 0.808382104753199\t b: 0.21198772624675566\t cost: 0.002087966265434022\t iteration: 4900\n",
      "m: 0.8086278779919733\t b: 0.2118560418709747\t cost: 0.002087888310242951\t iteration: 5000\n"
     ]
    }
   ],
   "source": [
    "print(\"The values of m, b, cost and iteration:\\n\")\n",
    "y_p = grd(x,y) "
   ]
  },
  {
   "cell_type": "markdown",
   "metadata": {},
   "source": [
    "## Plotting the data and regression line"
   ]
  },
  {
   "cell_type": "code",
   "execution_count": 166,
   "metadata": {},
   "outputs": [
    {
     "data": {
      "text/plain": [
       "[<matplotlib.lines.Line2D at 0x1e607eab0c8>]"
      ]
     },
     "execution_count": 166,
     "metadata": {},
     "output_type": "execute_result"
    },
    {
     "data": {
      "image/png": "[encoded data removed]",
      "text/plain": [
       "<Figure size 432x288 with 1 Axes>"
      ]
     },
     "metadata": {
      "needs_background": "light"
     },
     "output_type": "display_data"
    }
   ],
   "source": [
    "plt.scatter(x,y,color='blue')\n",
    "plt.plot(x,y_p,color='red')"
   ]
  },
  {
   "cell_type": "markdown",
   "metadata": {},
   "source": [
    "## Checking how well our model worked"
   ]
  },
  {
   "cell_type": "code",
   "execution_count": 167,
   "metadata": {},
   "outputs": [
    {
     "name": "stdout",
     "output_type": "stream",
     "text": [
      "0.03795658373422264\n"
     ]
    }
   ],
   "source": [
    "error = sum(abs(y-y_p))/30\n",
    "print(error)"
   ]
  },
  {
   "cell_type": "code",
   "execution_count": null,
   "metadata": {},
   "outputs": [],
   "source": []
  },
  {
   "cell_type": "code",
   "execution_count": null,
   "metadata": {},
   "outputs": [],
   "source": []
  }
 ],
 "metadata": {
  "kernelspec": {
   "display_name": "Python 3",
   "language": "python",
   "name": "python3"
  },
  "language_info": {
   "codemirror_mode": {
    "name": "ipython",
    "version": 3
   },
   "file_extension": ".py",
   "mimetype": "text/x-python",
   "name": "python",
   "nbconvert_exporter": "python",
   "pygments_lexer": "ipython3",
   "version": "3.7.4"
  }
 },
 "nbformat": 4,
 "nbformat_minor": 4
}
